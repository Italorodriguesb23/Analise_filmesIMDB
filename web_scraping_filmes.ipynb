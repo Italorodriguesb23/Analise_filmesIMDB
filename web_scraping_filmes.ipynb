{
 "cells": [
  {
   "cell_type": "code",
   "execution_count": 4,
   "id": "bac4a473-1f1c-4dd7-9030-3534b98cd872",
   "metadata": {},
   "outputs": [
    {
     "name": "stdout",
     "output_type": "stream",
     "text": [
      "                                            titulo data_lancamento  \\\n",
      "0                        Como Treinar o Seu Dragão      2025-06-06   \n",
      "1                                        M3GAN 2.0      2025-06-25   \n",
      "2                                    Lilo & Stitch      2025-05-17   \n",
      "3                             Um Homem sem Passado      2025-01-13   \n",
      "4  Demon Slayer: Kimetsu no Yaiba Castelo Infinito      2025-07-18   \n",
      "\n",
      "   nota_media  numero_votos  popularidade lingua_original  \\\n",
      "0       8.147          1128     1080.2642              en   \n",
      "1       7.711           435      793.9998              en   \n",
      "2       7.232           956      529.4998              en   \n",
      "3       6.981            26      493.0035              en   \n",
      "4       7.100            14      466.9849              ja   \n",
      "\n",
      "                                           descricao  \n",
      "0  Filho cheio de imaginação, mas negligenciado, ...  \n",
      "1  Uma arma robótica de nível militar conhecida c...  \n",
      "2  Stitch, um alienígena, chega ao planeta Terra ...  \n",
      "3  Ao acordar em uma cidade estranha, um homem se...  \n",
      "4  O Corpo de Caçadores de Demônios confronta os ...  \n"
     ]
    }
   ],
   "source": [
    "from tmdbv3api import TMDb, Movie\n",
    "import pandas as pd\n",
    "\n",
    "\n",
    "tmdb = TMDb()\n",
    "tmdb.api_key = '660a8172a1c10395143729a76395bf38'  # \n",
    "tmdb.language = 'pt-BR'\n",
    "\n",
    "movie = Movie()\n",
    "\n",
    "\n",
    "filmes = []\n",
    "paginas = 15  \n",
    "\n",
    "for page in range(1, paginas + 1):\n",
    "    populares = movie.popular(page=page)\n",
    "    for f in populares:\n",
    "        filmes.append({\n",
    "            \"titulo\": f.title,\n",
    "            \"data_lancamento\": f.release_date,\n",
    "            \"nota_media\": f.vote_average,\n",
    "            \"numero_votos\": f.vote_count,\n",
    "            \"popularidade\": f.popularity,\n",
    "            \"lingua_original\": f.original_language,\n",
    "            \"descricao\": f.overview\n",
    "        })\n",
    "\n",
    "\n",
    "df = pd.DataFrame(filmes)\n",
    "\n",
    "\n",
    "df.to_csv('filmes_tmdb.csv', index=False, encoding='utf-8')\n",
    "\n",
    "print(df.head())\n"
   ]
  },
  {
   "cell_type": "code",
   "execution_count": null,
   "id": "fd9f1d77-1f12-4f4b-a329-1fe22ef24486",
   "metadata": {},
   "outputs": [],
   "source": []
  }
 ],
 "metadata": {
  "kernelspec": {
   "display_name": "Python [conda env:base] *",
   "language": "python",
   "name": "conda-base-py"
  },
  "language_info": {
   "codemirror_mode": {
    "name": "ipython",
    "version": 3
   },
   "file_extension": ".py",
   "mimetype": "text/x-python",
   "name": "python",
   "nbconvert_exporter": "python",
   "pygments_lexer": "ipython3",
   "version": "3.12.7"
  }
 },
 "nbformat": 4,
 "nbformat_minor": 5
}
